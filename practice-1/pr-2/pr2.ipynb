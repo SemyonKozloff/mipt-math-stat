{
 "cells": [
  {
   "cell_type": "code",
   "execution_count": 7,
   "metadata": {
    "collapsed": false
   },
   "outputs": [],
   "source": [
    "import numpy as np\n",
    "import scipy.stats as sps\n",
    "import matplotlib.pyplot as plt\n",
    "\n",
    "import matplotlib.colors\n",
    "import random\n"
   ]
  },
  {
   "cell_type": "code",
   "execution_count": 8,
   "metadata": {
    "collapsed": true
   },
   "outputs": [],
   "source": [
    "N = 10000\n",
    "THETA = 1\n",
    "\n",
    "def plot_estimation(estimate, color, label):\n",
    "    delta_range = np.zeros(N)   \n",
    "        \n",
    "    for n in range(1, N):\n",
    "        estimation = estimate(sample[:n])\n",
    "        delta_range[n] = abs(THETA - estimation)\n",
    "    \n",
    "    plt.plot(range(1, N), delta_range[1:N], color=color, label=label)\n",
    "    \n",
    "    \n",
    "colors = list(matplotlib.colors.cnames.keys())\n",
    "def random_color(k):\n",
    "    return colors[k % len(colors)]\n",
    "    "
   ]
  },
  {
   "cell_type": "code",
   "execution_count": 9,
   "metadata": {
    "collapsed": false
   },
   "outputs": [],
   "source": [
    "plt.figure(figsize=(16, 10))\n",
    "plt.ylim(0, .6)\n",
    "\n",
    "sample = sps.expon.rvs(loc=0, scale=THETA, size=N)\n",
    "\n",
    "for k in range(1, 4, 2):\n",
    "    estimate = lambda s : (np.math.factorial(k) / np.power(s, k).mean()) ** (1 / k)\n",
    "    plot_estimation(estimate, random_color(k), str(k))\n",
    "    \n",
    "plt.grid()\n",
    "plt.legend()\n",
    "plt.savefig(\"k-1-4-2.pdf\")"
   ]
  },
  {
   "cell_type": "code",
   "execution_count": null,
   "metadata": {
    "collapsed": true
   },
   "outputs": [],
   "source": []
  }
 ],
 "metadata": {
  "kernelspec": {
   "display_name": "Python 3",
   "language": "python",
   "name": "python3"
  },
  "language_info": {
   "codemirror_mode": {
    "name": "ipython",
    "version": 3
   },
   "file_extension": ".py",
   "mimetype": "text/x-python",
   "name": "python",
   "nbconvert_exporter": "python",
   "pygments_lexer": "ipython3",
   "version": "3.5.1"
  }
 },
 "nbformat": 4,
 "nbformat_minor": 0
}
