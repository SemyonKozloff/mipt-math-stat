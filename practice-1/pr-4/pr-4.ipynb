{
 "cells": [
  {
   "cell_type": "code",
   "execution_count": 39,
   "metadata": {
    "collapsed": true
   },
   "outputs": [],
   "source": [
    "import numpy as np\n",
    "import scipy.stats as sps\n",
    "import matplotlib.pyplot as plt\n",
    "\n",
    "%matplotlib inline\n"
   ]
  },
  {
   "cell_type": "code",
   "execution_count": 40,
   "metadata": {
    "collapsed": true
   },
   "outputs": [],
   "source": [
    "N = 10000\n",
    "\n",
    "sample = sps.norm.rvs(loc=0, scale=1, size=N)\n",
    "\n",
    "#def f(sample, y):\n",
    "#    return sum(map(sample, lambda x : 1 if x < y else 0)) / sample.size\n"
   ]
  },
  {
   "cell_type": "code",
   "execution_count": null,
   "metadata": {
    "collapsed": false,
    "scrolled": false
   },
   "outputs": [],
   "source": [
    "grid = np.linspace(-10, 10, 1000)\n",
    "\n",
    "for n in [10, 25, 50, 100, 1000, N]:\n",
    "    res = sps.cumfreq(sample[:n], numbins=N)\n",
    "    emp_grid = res.lowerlimit + np.linspace(0, res.binsize * res.cumcount.size,\n",
    "                                            res.cumcount.size)\n",
    "    \n",
    "    plt.figure(figsize=(16, 10))\n",
    "    plt.ylim(-0.2, 1.2)\n",
    "    plt.xlim(-3, 3.5)\n",
    "    plt.step(emp_grid, res.cumcount / n, label=r'$F_n(x)$')\n",
    "    plt.plot(grid, sps.norm.cdf(grid), color='red', label=r'$F(x)$')\n",
    "    plt.grid()\n",
    "    plt.title(r'$n=' + str(n) + r'$')\n",
    "    plt.legend(loc=4)   \n",
    "    plt.show()   \n",
    "        "
   ]
  },
  {
   "cell_type": "code",
   "execution_count": null,
   "metadata": {
    "collapsed": false,
    "scrolled": false
   },
   "outputs": [],
   "source": [
    "delta_range = np.zeros(N)\n",
    "\n",
    "for n in range(1, N):\n",
    "    res = sps.cumfreq(sample[:n], numbins=N)\n",
    "    emp_grid = res.lowerlimit + np.linspace(0, res.binsize * res.cumcount.size,\n",
    "                                            res.cumcount.size)\n",
    "    sup = max([abs(sps.norm.cdf(emp_grid[i]) - res.cumcount[i] / n) \n",
    "               for i in range(emp_grid.size)])\n",
    "    delta_range[n] = sup\n",
    "    \n",
    "plt.figure(figsize=(16, 10))\n",
    "plt.plot(range(1, N), delta_range[1:N], color='green', \n",
    "         label=r'$\\sup_{x\\in\\mathbb{R}}|F_n(x) − F(x)|$')\n",
    "plt.grid()\n",
    "plt.title(r'$D_n(n)$')\n",
    "plt.legend()\n",
    "plt.show()\n"
   ]
  },
  {
   "cell_type": "code",
   "execution_count": null,
   "metadata": {
    "collapsed": true
   },
   "outputs": [],
   "source": []
  }
 ],
 "metadata": {
  "kernelspec": {
   "display_name": "Python 3",
   "language": "python",
   "name": "python3"
  },
  "language_info": {
   "codemirror_mode": {
    "name": "ipython",
    "version": 3
   },
   "file_extension": ".py",
   "mimetype": "text/x-python",
   "name": "python",
   "nbconvert_exporter": "python",
   "pygments_lexer": "ipython3",
   "version": "3.5.1"
  }
 },
 "nbformat": 4,
 "nbformat_minor": 0
}
