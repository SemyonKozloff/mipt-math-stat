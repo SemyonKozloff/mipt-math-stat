{
 "cells": [
  {
   "cell_type": "code",
   "execution_count": 9,
   "metadata": {
    "collapsed": true
   },
   "outputs": [],
   "source": [
    "import numpy as np\n",
    "import scipy.stats as sps\n",
    "import matplotlib.pyplot as plt\n",
    "\n",
    "%matplotlib inline\n"
   ]
  },
  {
   "cell_type": "code",
   "execution_count": null,
   "metadata": {
    "collapsed": false
   },
   "outputs": [],
   "source": [
    "N = 10000\n",
    "A = 3\n",
    "B = 10\n",
    "\n",
    "class cont_distr_gen(sps.rv_continuous):\n",
    "    def _pdf(self, x):\n",
    "        return 5 / (x ** 6)\n",
    "    \n",
    "cont_distr = cont_distr_gen(a=A, b=B, name=\"cont_distr\")\n",
    "mean = cont_distr.mean()\n",
    "var = cont_distr.var() "
   ]
  },
  {
   "cell_type": "code",
   "execution_count": null,
   "metadata": {
    "collapsed": false
   },
   "outputs": [],
   "source": [
    "sample = cont_distr.rvs(size=N)\n",
    "grid = np.linspace(A, B, 100)\n",
    "\n",
    "plt.figure(figsize=(16, 10))\n",
    "plt.scatter(sample, np.zeros(N), alpha=0.2, label=\"sample\")\n",
    "plt.plot(grid, cont_distr.pdf(grid), color=\"red\", label=\"density\")\n",
    "\n",
    "plt.legend()\n",
    "plt.grid()\n",
    "plt.savefig(\"cont_distr.pdf\")\n"
   ]
  },
  {
   "cell_type": "code",
   "execution_count": null,
   "metadata": {
    "collapsed": true
   },
   "outputs": [],
   "source": []
  },
  {
   "cell_type": "code",
   "execution_count": null,
   "metadata": {
    "collapsed": true
   },
   "outputs": [],
   "source": []
  }
 ],
 "metadata": {
  "kernelspec": {
   "display_name": "Python 3",
   "language": "python",
   "name": "python3"
  },
  "language_info": {
   "codemirror_mode": {
    "name": "ipython",
    "version": 3
   },
   "file_extension": ".py",
   "mimetype": "text/x-python",
   "name": "python",
   "nbconvert_exporter": "python",
   "pygments_lexer": "ipython3",
   "version": "3.5.1"
  }
 },
 "nbformat": 4,
 "nbformat_minor": 0
}
