{
 "cells": [
  {
   "cell_type": "code",
   "execution_count": 5,
   "metadata": {
    "collapsed": false
   },
   "outputs": [],
   "source": [
    "import numpy as np\n",
    "import scipy.stats as sps\n",
    "import matplotlib.pyplot as plt\n"
   ]
  },
  {
   "cell_type": "code",
   "execution_count": 6,
   "metadata": {
    "collapsed": false
   },
   "outputs": [],
   "source": [
    "N = 10000\n",
    "theta_values = [10]\n",
    "\n",
    "def plot_estimation(estimate, color, label):\n",
    "    delta_range = np.zeros(N)   \n",
    "        \n",
    "    for n in range(1, N):\n",
    "        estimation = estimate(sample[:n])\n",
    "        delta_range[n] = abs(theta - estimation)\n",
    "    \n",
    "    plt.plot(range(1, N), delta_range[1:N], color=color, label=label)\n"
   ]
  },
  {
   "cell_type": "code",
   "execution_count": 11,
   "metadata": {
    "collapsed": false
   },
   "outputs": [],
   "source": [
    "for theta in theta_values:\n",
    "    plt.figure(figsize=(16, 10))\n",
    "    plt.ylim(0, 1.5)\n",
    "    sample = sps.uniform.rvs(loc=0, scale=theta, size=N)\n",
    "    \n",
    "    plot_estimation(lambda s : 2 * s.mean(), \"red\", \"red\")\n",
    "    plot_estimation(lambda s : s.mean() + s.max() / 2, \"green\", \"green\")\n",
    "    plot_estimation(lambda s : (s.size + 1) * s.min(), \"yellow\", \"yellow\")\n",
    "    plot_estimation(lambda s : s.max() + s.min(), \"blue\", \"blue\")\n",
    "    plot_estimation(lambda s : (s.size + 1) / s.size * s.max(), \"purple\", \"purple\")\n",
    "    \n",
    "    plt.grid()\n",
    "    plt.legend()\n",
    "    plt.savefig(\"theta\" + str(theta) + \".pdf\")\n",
    "    "
   ]
  },
  {
   "cell_type": "code",
   "execution_count": 12,
   "metadata": {
    "collapsed": false
   },
   "outputs": [],
   "source": [
    "for theta in theta_values:\n",
    "    plt.figure(figsize=(16, 10))\n",
    "    plt.ylim(0, 15)\n",
    "    sample = sps.uniform.rvs(loc=0, scale=theta, size=N)\n",
    "    \n",
    "    plot_estimation(lambda s : (s.size + 1) * s.min(), \"yellow\", \"yellow\")\n",
    "    \n",
    "    plt.grid()\n",
    "    plt.legend()\n",
    "    plt.savefig(\"theta\" + str(theta) + \"-bad-estimation\" + \".pdf\")\n",
    "\n"
   ]
  },
  {
   "cell_type": "code",
   "execution_count": null,
   "metadata": {
    "collapsed": true
   },
   "outputs": [],
   "source": []
  }
 ],
 "metadata": {
  "kernelspec": {
   "display_name": "Python 3",
   "language": "python",
   "name": "python3"
  },
  "language_info": {
   "codemirror_mode": {
    "name": "ipython",
    "version": 3
   },
   "file_extension": ".py",
   "mimetype": "text/x-python",
   "name": "python",
   "nbconvert_exporter": "python",
   "pygments_lexer": "ipython3",
   "version": "3.5.1"
  }
 },
 "nbformat": 4,
 "nbformat_minor": 0
}
