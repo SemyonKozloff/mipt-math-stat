{
 "cells": [
  {
   "cell_type": "code",
   "execution_count": 97,
   "metadata": {
    "collapsed": false
   },
   "outputs": [],
   "source": [
    "import numpy as np\n",
    "import scipy.stats as sps\n",
    "import matplotlib.pyplot as plt\n"
   ]
  },
  {
   "cell_type": "code",
   "execution_count": 98,
   "metadata": {
    "collapsed": false
   },
   "outputs": [],
   "source": [
    "N = 10000\n",
    "theta_values = [10]\n",
    "estimation_data = [\n",
    "    (lambda s : 2 * s.mean(), \"red\", \"red\"),\n",
    "    (lambda s : s.mean() + s.max() / 2, \"green\", \"green\"),\n",
    "    (lambda s : (s.size + 1) * s.min(), \"yellow\", \"yellow\"),\n",
    "    (lambda s : s.max() + s.min(), \"blue\", \"blue\"),\n",
    "    (lambda s : (s.size + 1) / s.size * s.max(), \"purple\", \"purple\")\n",
    "]\n"
   ]
  },
  {
   "cell_type": "code",
   "execution_count": 101,
   "metadata": {
    "collapsed": false
   },
   "outputs": [
    {
     "name": "stderr",
     "output_type": "stream",
     "text": [
      "/usr/lib/python3.5/site-packages/matplotlib/pyplot.py:516: RuntimeWarning: More than 20 figures have been opened. Figures created through the pyplot interface (`matplotlib.pyplot.figure`) are retained until explicitly closed and may consume too much memory. (To control this warning, see the rcParam `figure.max_open_warning`).\n",
      "  max_open_warning, RuntimeWarning)\n"
     ]
    }
   ],
   "source": [
    "for theta in theta_values:\n",
    "    plt.figure(figsize=(16, 10))\n",
    "    plt.ylim(0, 1.5)\n",
    "    sample = sps.uniform.rvs(loc=0, scale=theta, size=N)\n",
    "    \n",
    "    for data in estimation_data:\n",
    "        estimate = data[0]\n",
    "        color = data[1]\n",
    "        label = data[2]\n",
    "        delta_range = np.zeros(N)   \n",
    "        \n",
    "        for n in range(1, N):\n",
    "            estimation = estimate(sample[:n])\n",
    "            delta_range[n] = abs(theta - estimation)\n",
    "            \n",
    "        plt.plot(range(1, N), delta_range[1:N], color=color, label=label)\n",
    "        \n",
    "    plt.grid()\n",
    "    plt.legend()\n",
    "    plt.savefig(\"theta\" + str(theta) + \".pdf\")\n",
    "    \n",
    "\n",
    "        \n",
    "    \n",
    "        \n",
    "    \n",
    "\n"
   ]
  },
  {
   "cell_type": "code",
   "execution_count": null,
   "metadata": {
    "collapsed": true
   },
   "outputs": [],
   "source": []
  },
  {
   "cell_type": "code",
   "execution_count": null,
   "metadata": {
    "collapsed": true
   },
   "outputs": [],
   "source": []
  }
 ],
 "metadata": {
  "kernelspec": {
   "display_name": "Python 3",
   "language": "python",
   "name": "python3"
  },
  "language_info": {
   "codemirror_mode": {
    "name": "ipython",
    "version": 3
   },
   "file_extension": ".py",
   "mimetype": "text/x-python",
   "name": "python",
   "nbconvert_exporter": "python",
   "pygments_lexer": "ipython3",
   "version": "3.5.1"
  }
 },
 "nbformat": 4,
 "nbformat_minor": 0
}
