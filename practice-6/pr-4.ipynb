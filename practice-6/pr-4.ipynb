{
 "cells": [
  {
   "cell_type": "code",
   "execution_count": 24,
   "metadata": {
    "collapsed": false
   },
   "outputs": [],
   "source": [
    "import numpy as np\n",
    "import scipy.stats as sps\n",
    "import matplotlib.pyplot as plt\n",
    "import time \n",
    "\n",
    "%matplotlib inline"
   ]
  },
  {
   "cell_type": "code",
   "execution_count": 26,
   "metadata": {
    "collapsed": false
   },
   "outputs": [],
   "source": [
    "T = 60\n",
    "DELTA_T = 1\n",
    "\n",
    "with open('496_Kozlov_Semyon.txt', 'r') as input_file:\n",
    "    input_data = list(map(float, input_file.readlines()))\n",
    "\n",
    "server_log = input_data[1:]\n",
    "\n",
    "server_events = sorted([(time, True) for time in server_log] + [(i, False) for i in range(T + DELTA_T)])\n"
   ]
  },
  {
   "cell_type": "markdown",
   "metadata": {},
   "source": [
    "Сопряженным к экспоненциальному распредению $Exp(\\lambda)$ является гамма-распределение $\\Gamma(k, \\theta).$ Тогда байесовская оценка параметра $\\lambda$ будет равна $\\frac{k + n - 1}{\\theta + \\Sigma X_i}$ "
   ]
  },
  {
   "cell_type": "code",
   "execution_count": 36,
   "metadata": {
    "collapsed": false
   },
   "outputs": [
    {
     "name": "stdout",
     "output_type": "stream",
     "text": [
      "0 \t 0.000\n",
      "1 \t 0.000\n",
      "1.317 \t break\n",
      "2 \t 26.032\n",
      "3 \t 25.601\n",
      "4 \t 25.169\n",
      "5 \t 24.738\n",
      "6 \t 24.306\n",
      "7 \t 23.874\n",
      "8 \t 23.443\n",
      "9 \t 23.011\n",
      "9.201 \t break\n",
      "10 \t 13.256\n",
      "11 \t 13.031\n",
      "12 \t 12.806\n",
      "13 \t 12.581\n",
      "14 \t 12.356\n",
      "15 \t 12.131\n",
      "16 \t 11.905\n",
      "17 \t 11.680\n",
      "18 \t 11.455\n",
      "19 \t 11.230\n",
      "20 \t 11.005\n",
      "20.552 \t break\n",
      "21 \t 11.560\n",
      "22 \t 11.341\n",
      "23 \t 11.121\n",
      "24 \t 10.902\n",
      "25 \t 10.682\n",
      "26 \t 10.463\n",
      "27 \t 10.243\n",
      "27.469 \t break\n",
      "28 \t 12.101\n",
      "28.208 \t break\n",
      "29 \t 15.759\n",
      "30 \t 15.412\n",
      "31 \t 15.065\n",
      "32 \t 14.717\n",
      "32.88 \t break\n",
      "33 \t 13.913\n",
      "34 \t 13.620\n",
      "35 \t 13.327\n",
      "36 \t 13.034\n",
      "37 \t 12.741\n",
      "38 \t 12.448\n",
      "39 \t 12.154\n",
      "40 \t 11.861\n",
      "40.907 \t break\n",
      "41 \t 12.929\n",
      "41.513 \t break\n",
      "42 \t 14.831\n",
      "42.272 \t break\n",
      "43 \t 15.597\n",
      "44 \t 15.209\n",
      "45 \t 14.821\n",
      "45.751 \t break\n",
      "45.868 \t break\n",
      "46 \t 17.607\n",
      "47 \t 17.135\n",
      "48 \t 16.663\n",
      "49 \t 16.191\n",
      "49.327 \t break\n",
      "50 \t 16.283\n",
      "51 \t 15.855\n",
      "51.667 \t break\n",
      "52 \t 17.055\n",
      "52.651 \t break\n",
      "52.752 \t break\n",
      "53 \t 19.078\n",
      "54 \t 18.495\n",
      "55 \t 17.913\n",
      "56 \t 17.330\n",
      "57 \t 16.748\n",
      "58 \t 16.165\n",
      "58.434 \t break\n",
      "59 \t 16.461\n",
      "59.389 \t break\n",
      "60 \t 17.000\n"
     ]
    }
   ],
   "source": [
    "k = 1\n",
    "theta = 1\n",
    "\n",
    "prev_time = 0\n",
    "sum_x = 0\n",
    "n = 0\n",
    "for curr_time, is_broken in server_events:\n",
    "    delta_time = curr_time - prev_time\n",
    "    time.sleep(delta_time)\n",
    "    \n",
    "    if is_broken:\n",
    "        print('{} \\t break'.format(curr_time))\n",
    "        \n",
    "        sum_x = curr_time - sum_x\n",
    "        n += 1\n",
    "    else:     \n",
    "        lambda_parameter = (k + n - 1) / (theta + sum_x) \n",
    "        print('{} \\t {:.3f}'.format(curr_time, lambda_parameter * (T - curr_time) + n))\n",
    "        \n",
    "    prev_time = curr_time"
   ]
  },
  {
   "cell_type": "code",
   "execution_count": null,
   "metadata": {
    "collapsed": true
   },
   "outputs": [],
   "source": []
  }
 ],
 "metadata": {
  "kernelspec": {
   "display_name": "Python 3",
   "language": "python",
   "name": "python3"
  },
  "language_info": {
   "codemirror_mode": {
    "name": "ipython",
    "version": 3
   },
   "file_extension": ".py",
   "mimetype": "text/x-python",
   "name": "python",
   "nbconvert_exporter": "python",
   "pygments_lexer": "ipython3",
   "version": "3.5.1"
  }
 },
 "nbformat": 4,
 "nbformat_minor": 0
}
