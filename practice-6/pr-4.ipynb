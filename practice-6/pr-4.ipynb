{
 "cells": [
  {
   "cell_type": "code",
   "execution_count": 2,
   "metadata": {
    "collapsed": false
   },
   "outputs": [],
   "source": [
    "import numpy as np\n",
    "import scipy.stats as sps\n",
    "import matplotlib.pyplot as plt\n",
    "import time \n",
    "\n",
    "%matplotlib inline"
   ]
  },
  {
   "cell_type": "code",
   "execution_count": 3,
   "metadata": {
    "collapsed": false
   },
   "outputs": [],
   "source": [
    "T = 60\n",
    "DELTA_T = 1\n",
    "\n",
    "with open('496_Kozlov_Semyon.txt', 'r') as input_file:\n",
    "    input_data = list(map(float, input_file.readlines()))\n",
    "\n",
    "server_log = input_data[1:]\n",
    "\n",
    "server_events = sorted([(time, True) for time in server_log] + [(time, False) for time in range(T + DELTA_T)])\n"
   ]
  },
  {
   "cell_type": "markdown",
   "metadata": {},
   "source": [
    "Сопряженным к экспоненциальному распредению $Exp(\\lambda)$ является гамма-распределение $\\Gamma(k, \\theta).$ Тогда байесовская оценка параметра $\\lambda$ будет равна $\\frac{k + n}{\\theta + \\Sigma X_i}$ "
   ]
  },
  {
   "cell_type": "code",
   "execution_count": 4,
   "metadata": {
    "collapsed": false,
    "scrolled": false
   },
   "outputs": [
    {
     "name": "stdout",
     "output_type": "stream",
     "text": [
      "0 \t 60.000\n",
      "1 \t 59.000\n",
      "1.317 \t break\n",
      "2 \t 51.065\n",
      "3 \t 50.202\n",
      "4 \t 49.338\n",
      "5 \t 48.475\n",
      "6 \t 47.612\n",
      "7 \t 46.749\n",
      "8 \t 45.886\n",
      "9 \t 45.022\n",
      "9.201 \t break\n",
      "10 \t 18.884\n",
      "11 \t 18.547\n",
      "12 \t 18.209\n",
      "13 \t 17.871\n",
      "14 \t 17.534\n",
      "15 \t 17.196\n",
      "16 \t 16.858\n",
      "17 \t 16.520\n",
      "18 \t 16.183\n",
      "19 \t 15.845\n",
      "20 \t 15.507\n",
      "20.552 \t break\n",
      "21 \t 14.414\n",
      "22 \t 14.121\n",
      "23 \t 13.828\n",
      "24 \t 13.536\n",
      "25 \t 13.243\n",
      "26 \t 12.950\n",
      "27 \t 12.658\n",
      "27.469 \t break\n",
      "28 \t 14.126\n",
      "28.208 \t break\n",
      "29 \t 17.910\n",
      "30 \t 17.494\n",
      "31 \t 17.077\n",
      "32 \t 16.661\n",
      "32.88 \t break\n",
      "33 \t 15.232\n",
      "34 \t 14.890\n",
      "35 \t 14.548\n",
      "36 \t 14.206\n",
      "37 \t 13.864\n",
      "38 \t 13.522\n",
      "39 \t 13.180\n",
      "40 \t 12.838\n",
      "40.907 \t break\n",
      "41 \t 13.775\n",
      "41.513 \t break\n",
      "42 \t 15.685\n",
      "42.272 \t break\n",
      "43 \t 16.330\n",
      "44 \t 15.899\n",
      "45 \t 15.467\n",
      "45.751 \t break\n",
      "45.868 \t break\n",
      "46 \t 18.207\n",
      "47 \t 17.692\n",
      "48 \t 17.178\n",
      "49 \t 16.663\n",
      "49.327 \t break\n",
      "50 \t 16.640\n",
      "51 \t 16.176\n",
      "51.667 \t break\n",
      "52 \t 17.366\n",
      "52.651 \t break\n",
      "52.752 \t break\n",
      "53 \t 19.349\n",
      "54 \t 18.728\n",
      "55 \t 18.107\n",
      "56 \t 17.485\n",
      "57 \t 16.864\n",
      "58 \t 16.243\n",
      "58.434 \t break\n",
      "59 \t 16.490\n",
      "59.389 \t break\n",
      "60 \t 17.000\n"
     ]
    }
   ],
   "source": [
    "k = 1\n",
    "theta = 1\n",
    "\n",
    "prev_time = 0\n",
    "sum_x = 0\n",
    "n = 0\n",
    "for curr_time, is_broken in server_events:\n",
    "    delta_time = curr_time - prev_time\n",
    "    time.sleep(delta_time)\n",
    "    \n",
    "    if is_broken:\n",
    "        print('{} \\t break'.format(curr_time))\n",
    "        \n",
    "        sum_x = curr_time - sum_x\n",
    "        n += 1\n",
    "    else:     \n",
    "        lambda_parameter = (k + n) / (theta + sum_x) \n",
    "        print('{} \\t {:.3f}'.format(curr_time, lambda_parameter * (T - curr_time) + n))\n",
    "        \n",
    "    prev_time = curr_time"
   ]
  },
  {
   "cell_type": "code",
   "execution_count": null,
   "metadata": {
    "collapsed": true
   },
   "outputs": [],
   "source": []
  }
 ],
 "metadata": {
  "kernelspec": {
   "display_name": "Python 3",
   "language": "python",
   "name": "python3"
  },
  "language_info": {
   "codemirror_mode": {
    "name": "ipython",
    "version": 3
   },
   "file_extension": ".py",
   "mimetype": "text/x-python",
   "name": "python",
   "nbconvert_exporter": "python",
   "pygments_lexer": "ipython3",
   "version": "3.5.1"
  }
 },
 "nbformat": 4,
 "nbformat_minor": 0
}
