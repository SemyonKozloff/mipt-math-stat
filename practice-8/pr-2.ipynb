{
 "cells": [
  {
   "cell_type": "code",
   "execution_count": 5,
   "metadata": {
    "collapsed": true
   },
   "outputs": [],
   "source": [
    "import numpy as np\n",
    "import scipy.stats as sps\n",
    "import matplotlib.pyplot as plt\n",
    "\n",
    "%matplotlib inline\n"
   ]
  },
  {
   "cell_type": "code",
   "execution_count": 6,
   "metadata": {
    "collapsed": true
   },
   "outputs": [],
   "source": [
    "with open('496 Козлов Семён.txt', 'r') as input_file:\n",
    "    input_data = np.array(list(map(float, input_file.readlines())))"
   ]
  },
  {
   "cell_type": "markdown",
   "metadata": {},
   "source": [
    "$\\hat{\\beta_1} = X_0$\n",
    "\n",
    "$\\hat{\\beta_2} = \\frac{X_n - X_0}{n}$\n",
    "\n",
    "$\\hat{\\sigma^2} = \\frac{1}{n-1}\\sum\\limits_{i = 1}^n(X_i - X_{i - 1}- \\frac{X_n - X_0}{n})^2$\n",
    "\n",
    "$\\hat {\\sigma_{time}^2} = \\frac{\\hat {\\sigma^2}}{(\\hat {\\beta_2})^2}$"
   ]
  },
  {
   "cell_type": "code",
   "execution_count": 7,
   "metadata": {
    "collapsed": false
   },
   "outputs": [],
   "source": [
    "n = len(input_data) - 1\n",
    "\n",
    "beta1 = input_data[0]\n",
    "beta2 = (input_data[-1] - input_data[0]) / n\n",
    "sigma = ((input_data[1:] - input_data[:n] - beta2) ** 2).sum() / (n - 1)\n",
    "var_time = sigma / beta2 ** 2"
   ]
  },
  {
   "cell_type": "code",
   "execution_count": 8,
   "metadata": {
    "collapsed": true
   },
   "outputs": [],
   "source": [
    "with open('496 Козлов Семён.txt', 'w') as output_file:\n",
    "    output_file.write('{} {} {} {}'.format(beta1, beta2, sigma, var_time))\n",
    "    "
   ]
  },
  {
   "cell_type": "code",
   "execution_count": null,
   "metadata": {
    "collapsed": true
   },
   "outputs": [],
   "source": []
  }
 ],
 "metadata": {
  "kernelspec": {
   "display_name": "Python 3",
   "language": "python",
   "name": "python3"
  },
  "language_info": {
   "codemirror_mode": {
    "name": "ipython",
    "version": 3
   },
   "file_extension": ".py",
   "mimetype": "text/x-python",
   "name": "python",
   "nbconvert_exporter": "python",
   "pygments_lexer": "ipython3",
   "version": "3.5.1"
  }
 },
 "nbformat": 4,
 "nbformat_minor": 0
}
