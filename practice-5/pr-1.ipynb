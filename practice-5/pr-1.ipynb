{
 "cells": [
  {
   "cell_type": "code",
   "execution_count": 4,
   "metadata": {
    "collapsed": true
   },
   "outputs": [],
   "source": [
    "import time"
   ]
  },
  {
   "cell_type": "code",
   "execution_count": 5,
   "metadata": {
    "collapsed": true
   },
   "outputs": [],
   "source": [
    "T = 60\n",
    "DELTA_T = 1\n",
    "\n",
    "with open('496_Kozlov_Semyon.txt', 'r') as input_file:\n",
    "    input_data = list(map(float, input_file.readlines()))\n",
    "\n",
    "lambda_parameter = input_data[0]\n",
    "server_log = input_data[1:]"
   ]
  },
  {
   "cell_type": "markdown",
   "metadata": {},
   "source": [
    "$E(N_t|N_s)=E(N_t-N_s+N_s|N_s)=E(N_t-N_s|E_s)+E(N_s|N_s)=E(N_t-N_s)+N_s=\\lambda(t-s)+N_s$\n",
    "\n",
    "$E(N_t-N_s|N_s)=E(N_t-N_s)=\\lambda(t-s)$, так как $(N_t-N_s)$ и $N_s$ - независимые случайные величины и \n",
    "$N_t-N_s \\sim Pois(\\lambda(t-s))$.\n"
   ]
  },
  {
   "cell_type": "code",
   "execution_count": 6,
   "metadata": {
    "collapsed": false
   },
   "outputs": [
    {
     "name": "stdout",
     "output_type": "stream",
     "text": [
      "0 23.46\n",
      "1 23.069\n",
      "2 23.678\n",
      "3 23.287\n",
      "4 22.896\n",
      "5 22.505\n",
      "6 22.114\n",
      "7 21.723\n",
      "8 21.332\n",
      "9 20.941\n",
      "10 21.55\n",
      "11 21.159\n",
      "12 20.768\n",
      "13 20.377\n",
      "14 19.986\n",
      "15 19.595\n",
      "16 19.204\n",
      "17 18.813\n",
      "18 18.422\n",
      "19 18.031\n",
      "20 17.64\n",
      "21 18.249\n",
      "22 17.858\n",
      "23 17.467\n",
      "24 17.076\n",
      "25 16.685\n",
      "26 16.294\n",
      "27 15.903\n",
      "28 16.512\n",
      "29 17.121\n",
      "30 16.73\n",
      "31 16.339\n",
      "32 15.948\n",
      "33 16.557\n",
      "34 16.166\n",
      "35 15.775\n",
      "36 15.384\n",
      "37 14.993\n",
      "38 14.602\n",
      "39 14.211\n",
      "40 13.82\n",
      "41 14.429\n",
      "42 15.038\n",
      "43 15.647\n",
      "44 15.256\n",
      "45 14.865\n",
      "46 16.474\n",
      "47 16.083\n",
      "48 15.692\n",
      "49 15.301\n",
      "50 15.91\n",
      "51 15.519\n",
      "52 16.128\n",
      "53 17.737\n",
      "54 17.346\n",
      "55 16.955\n",
      "56 16.564\n",
      "57 16.173\n",
      "58 15.782\n",
      "59 16.391\n",
      "60 17.0\n"
     ]
    }
   ],
   "source": [
    "n_broken_servers = [len([t for t in server_log if t <= s]) for s in range(0, T + DELTA_T, DELTA_T)]\n",
    "\n",
    "for s in range(0, T + DELTA_T, DELTA_T):\n",
    "    print(s, round(lambda_parameter * (T - s) + n_broken_servers[s], 3))\n",
    "    time.sleep(DELTA_T)\n",
    "    "
   ]
  },
  {
   "cell_type": "code",
   "execution_count": null,
   "metadata": {
    "collapsed": true
   },
   "outputs": [],
   "source": []
  }
 ],
 "metadata": {
  "kernelspec": {
   "display_name": "Python 3",
   "language": "python",
   "name": "python3"
  },
  "language_info": {
   "codemirror_mode": {
    "name": "ipython",
    "version": 3
   },
   "file_extension": ".py",
   "mimetype": "text/x-python",
   "name": "python",
   "nbconvert_exporter": "python",
   "pygments_lexer": "ipython3",
   "version": "3.5.1"
  }
 },
 "nbformat": 4,
 "nbformat_minor": 0
}
